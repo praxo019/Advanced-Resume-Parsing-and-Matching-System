{
  "cells": [
    {
      "cell_type": "code",
      "execution_count": 19,
      "metadata": {
        "colab": {
          "base_uri": "https://localhost:8080/",
          "height": 39
        },
        "colab_type": "code",
        "id": "gBVttA63rfks",
        "outputId": "60c68fe1-f352-4b97-a876-d24b56dd94f2"
      },
      "outputs": [
        {
          "data": {
            "text/plain": [
              "'\\n\\nproject name : shinzo abe tweeter sentiments\\nauthor : @kanishksh4rma\\n\\n'"
            ]
          },
          "execution_count": 19,
          "metadata": {},
          "output_type": "execute_result"
        }
      ],
      "source": [
        "'''\n",
        "\n",
        "project name : shinzo abe tweeter sentiments\n",
        "author : @kanishksh4rma\n",
        "\n",
        "'''"
      ]
    },
    {
      "cell_type": "code",
      "execution_count": 20,
      "metadata": {
        "colab": {},
        "colab_type": "code",
        "id": "pT4Yo_9zotkV"
      },
      "outputs": [],
      "source": [
        "#intall the required library\n",
        "#pip install docx2txt\n",
        "\n",
        "import docx2txt\n",
        "import warnings\n",
        "warnings.filterwarnings('ignore')"
      ]
    },
    {
      "cell_type": "code",
      "execution_count": 21,
      "metadata": {
        "colab": {},
        "colab_type": "code",
        "id": "NqDoUjFlpHsE"
      },
      "outputs": [],
      "source": [
        "# load the data\n",
        "resume = docx2txt.process('Daina_Rich.docx')\n",
        "job = docx2txt.process('python-job-description.docx')"
      ]
    },
    {
      "cell_type": "code",
      "execution_count": 22,
      "metadata": {
        "colab": {
          "base_uri": "https://localhost:8080/",
          "height": 156
        },
        "colab_type": "code",
        "id": "ciJsuAJrpZMi",
        "outputId": "d967743a-9383-4857-8ecd-4c708604d771"
      },
      "outputs": [
        {
          "data": {
            "text/plain": [
              "'Contact\\n\\n+1 (970) 333-3833\\n\\ndiana.richardson@mail.com\\n\\nwww.linkedin.com/diana.richardson\\n\\n\\n\\nHobbies\\n\\ncooking\\n\\nItalian culture\\n\\nContact\\n\\n+1 (970) 333-3833\\n\\ndiana.richardson@mail.com\\n\\nwww.linkedin.com/diana.richardson\\n\\n\\n\\nHobbies\\n\\ncooking\\n\\nItalian culture\\n\\nHighlights\\n\\nWorks well under pressure\\n\\nExceptional interpersonal skills\\n\\nTrained in liquor, wine, and food service\\n\\nMaster of sales techniques\\n\\nHighly responsible and reliable\\n\\nFood Ingredients expert\\n\\n\\n\\nExperience\\n\\nHead Waiter - 09/2017 to 05/2019\\n\\nMomo Restaurant, New York\\n\\nCoach new waiters and floor staff on guest service expectations, safety procedures, proper food handling, and restaurant protocols.\\n\\nMonitor dining room to guarantee optimal guest experiences.\\n\\nWork with individual servers to improve performance.\\n\\nAnswer customer inquiries and resolve issues immediately.\\n\\n\\n\\nWaitress - 09/2015 to 05/2017\\n\\nSi Italian Restaurant, New York\\n\\nAnswered questions about menu (elections and made recommendations when requested). \\n\\nAccurately recorded orders and partnered with team members to serve food and beverages.\\n\\nEffectively communicated with kitchen staff regarding customer allergies, dietary needs, and other special requests.\\n\\nConsistently adhered to quality expectations and standards.\\n\\n\\n\\nEducation\\n\\nBachelor of Science:   Cook - 2014\\n\\nCookery School (High School), Dublin\\n\\nHighlights\\n\\nWorks well under pressure\\n\\nExceptional interpersonal skills\\n\\nTrained in liquor, wine, and food service\\n\\nMaster of sales techniques\\n\\nHighly responsible and reliable\\n\\nFood Ingredients expert\\n\\n\\n\\nExperience\\n\\nHead Waiter - 09/2017 to 05/2019\\n\\nMomo Restaurant, New York\\n\\nCoach new waiters and floor staff on guest service expectations, safety procedures, proper food handling, and restaurant protocols.\\n\\nMonitor dining room to guarantee optimal guest experiences.\\n\\nWork with individual servers to improve performance.\\n\\nAnswer customer inquiries and resolve issues immediately.\\n\\n\\n\\nWaitress - 09/2015 to 05/2017\\n\\nSi Italian Restaurant, New York\\n\\nAnswered questions about menu (elections and made recommendations when requested). \\n\\nAccurately recorded orders and partnered with team members to serve food and beverages.\\n\\nEffectively communicated with kitchen staff regarding customer allergies, dietary needs, and other special requests.\\n\\nConsistently adhered to quality expectations and standards.\\n\\n\\n\\nEducation\\n\\nBachelor of Science:   Cook - 2014\\n\\nCookery School (High School), Dublin\\n\\nExperienced Server bringing enthusiasm, dedication and an exceptional work ethic. Trained in customer service with knowledge of Italy cuisine. High energy and outgoing with a dedication to positive guest relations. High volume dining customer service, and cash handling background.\\n\\n\\n\\nExperienced Server bringing enthusiasm, dedication and an exceptional work ethic. Trained in customer service with knowledge of Italy cuisine. High energy and outgoing with a dedication to positive guest relations. High volume dining customer service, and cash handling background.\\n\\n\\n\\nDiana \\n\\nRichardson\\n\\nDiana \\n\\nRichardson'"
            ]
          },
          "execution_count": 22,
          "metadata": {},
          "output_type": "execute_result"
        }
      ],
      "source": [
        "# printing the resume\n",
        "resume"
      ]
    },
    {
      "cell_type": "code",
      "execution_count": 23,
      "metadata": {
        "colab": {
          "base_uri": "https://localhost:8080/",
          "height": 156
        },
        "colab_type": "code",
        "id": "bo7IIqkxpap7",
        "outputId": "fec3c761-1527-44e5-8a59-7ce2183d795f"
      },
      "outputs": [
        {
          "data": {
            "text/plain": [
              "'Python Developer responsibilities include:\\n\\n\\t\\tWriting effective, scalable code \\n\\n\\t\\tDeveloping back-end components to improve responsiveness and overall performance \\n\\n\\t\\tIntegrating user-facing elements into applications \\n\\nJob brief\\n\\nWe are looking for a Python Developer to join our engineering team and help us develop and maintain various software products.\\n\\nPython Developer responsibilities include writing and testing code, debugging programs and integrating applications with third-party web services. To be successful in this role, you should have experience using server-side logic and work well in a team.\\n\\nUltimately, you’ll build highly responsive web applications that align with our business needs.\\n\\nResponsibilities\\n\\n\\t\\tWrite effective, scalable code \\n\\n\\t\\tDevelop back-end components to improve responsiveness and overall performance \\n\\n\\t\\tIntegrate user-facing elements into applications \\n\\n\\t\\tTest and debug programs \\n\\n\\t\\tImprove functionality of existing systems \\n\\n\\t\\tImplement security and data protection solutions \\n\\n\\t\\tAssess and prioritize feature requests \\n\\n\\t\\tCoordinate with internal teams to understand user requirements and provide technical solutions \\n\\nRequirements\\n\\n\\t\\tWork experience as a Python Developer \\n\\n\\t\\tExpertise in at least one popular Python framework (like Django, Flask or Pyramid) \\n\\n\\t\\tKnowledge of object-relational mapping (ORM) \\n\\n\\t\\tFamiliarity with front-end technologies (like JavaScript and HTML5) \\n\\n\\t\\tTeam spirit \\n\\n\\t\\tGood problem-solving skills \\n\\n\\t\\tBSc in Computer Science, Engineering or relevant field'"
            ]
          },
          "execution_count": 23,
          "metadata": {},
          "output_type": "execute_result"
        }
      ],
      "source": [
        "#print the job description\n",
        "job"
      ]
    },
    {
      "cell_type": "code",
      "execution_count": 24,
      "metadata": {
        "colab": {},
        "colab_type": "code",
        "id": "jg8sSwoopb9Q"
      },
      "outputs": [],
      "source": [
        "# a list of text\n",
        "\n",
        "text = [resume,job]"
      ]
    },
    {
      "cell_type": "code",
      "execution_count": 25,
      "metadata": {
        "colab": {},
        "colab_type": "code",
        "id": "yuZ3dpn7piP3"
      },
      "outputs": [],
      "source": [
        "from sklearn.feature_extraction.text import CountVectorizer\n",
        "\n",
        "cv = CountVectorizer()\n",
        "count_matrix = cv.fit_transform(text)"
      ]
    },
    {
      "cell_type": "code",
      "execution_count": 26,
      "metadata": {
        "colab": {
          "base_uri": "https://localhost:8080/",
          "height": 56
        },
        "colab_type": "code",
        "id": "QbjBzHu7ptPN",
        "outputId": "5661ebf7-537e-44f8-83f7-cbf2be75c381"
      },
      "outputs": [
        {
          "name": "stdout",
          "output_type": "stream",
          "text": [
            "Similarity score :  [[1.         0.47741258]\n",
            " [0.47741258 1.        ]]\n"
          ]
        }
      ],
      "source": [
        "# import cosine similarity \n",
        "\n",
        "from sklearn.metrics.pairwise import cosine_similarity\n",
        "\n",
        "#print similarity score\n",
        "\n",
        "print('Similarity score : ',cosine_similarity(count_matrix))"
      ]
    },
    {
      "cell_type": "code",
      "execution_count": 27,
      "metadata": {
        "colab": {
          "base_uri": "https://localhost:8080/",
          "height": 36
        },
        "colab_type": "code",
        "id": "tM68SAs1qB7G",
        "outputId": "35941908-9485-44bd-a884-1b6488975d61"
      },
      "outputs": [
        {
          "name": "stdout",
          "output_type": "stream",
          "text": [
            "Your Resume 47.74 % match to the job description !\n"
          ]
        }
      ],
      "source": [
        "# get the percentage\n",
        "matchpercentage = cosine_similarity(count_matrix)[0][1]\n",
        "matchpercentage = round(matchpercentage*100,2)\n",
        "print('Your Resume {} % match to the job description !'.format(matchpercentage))"
      ]
    }
  ],
  "metadata": {
    "colab": {
      "collapsed_sections": [],
      "name": "Resume_Scanner_for_Job_Description.ipynb",
      "provenance": []
    },
    "kernelspec": {
      "display_name": "Python 3.10.8 64-bit (microsoft store)",
      "language": "python",
      "name": "python3"
    },
    "language_info": {
      "codemirror_mode": {
        "name": "ipython",
        "version": 3
      },
      "file_extension": ".py",
      "mimetype": "text/x-python",
      "name": "python",
      "nbconvert_exporter": "python",
      "pygments_lexer": "ipython3",
      "version": "3.10.8"
    },
    "vscode": {
      "interpreter": {
        "hash": "1bf788893ba931e416453f0c0a61a167856e8a5bf13829dd3485fa637dc08783"
      }
    }
  },
  "nbformat": 4,
  "nbformat_minor": 0
}
